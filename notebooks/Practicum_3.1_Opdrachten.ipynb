{
 "cells": [
  {
   "cell_type": "code",
   "execution_count": 47,
   "metadata": {},
   "outputs": [],
   "source": [
    "import random\n",
    "\n",
    "random_list_1 = [random.randint(1, 100) for _ in range(20)]\n",
    "random_list_2 = [random.randint(1, 100) for _ in range(20)]\n",
    "random_list_3 = [random.randint(1, 100) for _ in range(20)]"
   ]
  },
  {
   "cell_type": "markdown",
   "metadata": {},
   "source": [
    "Algoritme 1 (zelf bedacht)"
   ]
  },
  {
   "cell_type": "code",
   "execution_count": 13,
   "metadata": {},
   "outputs": [
    {
     "name": "stdout",
     "output_type": "stream",
     "text": [
      "[3, 6, 13, 20, 26, 31, 47, 48, 56, 57, 58, 58, 60, 64, 68, 72, 75, 86, 87, 92]\n"
     ]
    }
   ],
   "source": [
    "newArray = []\n",
    "\n",
    "for i in random_list_1:\n",
    "    if len(newArray) == 0:\n",
    "        newArray.append(i)\n",
    "    else:\n",
    "        for n in range(len(newArray)):\n",
    "            if i < newArray[n]:\n",
    "                newArray.insert(n, i)\n",
    "                break\n",
    "            elif n == len(newArray) - 1:\n",
    "                newArray.append(i)\n",
    "\n",
    "print(newArray)\n"
   ]
  },
  {
   "cell_type": "markdown",
   "metadata": {},
   "source": [
    "Algoritme 2 (selection sort)"
   ]
  },
  {
   "cell_type": "code",
   "execution_count": 48,
   "metadata": {},
   "outputs": [
    {
     "data": {
      "text/plain": [
       "[8, 21, 24, 28, 30, 31, 32, 34, 36, 48, 49, 50, 53, 64, 69, 69, 71, 74, 74, 79]"
      ]
     },
     "execution_count": 48,
     "metadata": {},
     "output_type": "execute_result"
    }
   ],
   "source": [
    "inputArray = random_list_2\n",
    "outputArray = []\n",
    "\n",
    "def getLowest(array):\n",
    "    lowest = array[0]\n",
    "\n",
    "    for n in random_list_2:\n",
    "        if n >= lowest:\n",
    "            continue\n",
    "\n",
    "        lowest = n\n",
    "\n",
    "    return lowest\n",
    "\n",
    "for i in range(len(inputArray)):\n",
    "    lowest = getLowest(inputArray)\n",
    "    inputArray.remove(lowest)\n",
    "    outputArray.append(lowest)\n",
    "    \n",
    "outputArray"
   ]
  },
  {
   "cell_type": "markdown",
   "metadata": {},
   "source": [
    "Algoritme 3 (Gnome sort)"
   ]
  },
  {
   "cell_type": "code",
   "execution_count": 50,
   "metadata": {},
   "outputs": [
    {
     "data": {
      "text/plain": [
       "[1, 23, 24, 26, 29, 37, 41, 64, 70, 73, 76, 76, 81, 82, 88, 94, 96, 96, 98, 99]"
      ]
     },
     "execution_count": 50,
     "metadata": {},
     "output_type": "execute_result"
    }
   ],
   "source": [
    "inputArray = random_list_3\n",
    "index = 0\n",
    "\n",
    "while index < len(inputArray):\n",
    "    if index == 0:\n",
    "        index = index+1\n",
    "    \n",
    "    number1 = inputArray[index]\n",
    "    number2 = inputArray[index - 1]\n",
    "\n",
    "    if number1 >= number2:\n",
    "        index = index + 1\n",
    "    else:\n",
    "        inputArray[index] = number2\n",
    "        inputArray[index - 1] = number1\n",
    "\n",
    "        index = index - 1\n",
    "\n",
    "inputArray"
   ]
  }
 ],
 "metadata": {
  "kernelspec": {
   "display_name": "Python 3",
   "language": "python",
   "name": "python3"
  },
  "language_info": {
   "codemirror_mode": {
    "name": "ipython",
    "version": 3
   },
   "file_extension": ".py",
   "mimetype": "text/x-python",
   "name": "python",
   "nbconvert_exporter": "python",
   "pygments_lexer": "ipython3",
   "version": "3.10.13"
  }
 },
 "nbformat": 4,
 "nbformat_minor": 2
}
