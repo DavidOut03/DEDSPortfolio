{
 "cells": [
  {
   "cell_type": "markdown",
   "metadata": {},
   "source": [
    "Voor deze opdracht heb ik de volgende data structuren gekozen:\n",
    "\n",
    "- Graph\n",
    "- "
   ]
  },
  {
   "cell_type": "markdown",
   "metadata": {},
   "source": [
    "Een bekend algoritme die bij de datastructuur Graph hoort is de Breadth first search. Dit algoritme probeerd alle nodes te zoeken door de edges te gebruiken. Ook zorgt hij hierbij voor dat deze niet in een loop terecht komt.\n",
    "\n",
    "psuedocode:\n",
    "\n",
    "create a queue Q \n",
    "mark v as visited and put v into Q \n",
    "while Q is non-empty \n",
    "    remove the head u of Q \n",
    "    mark and enqueue all (unvisited) neighbours of u\n",
    "\n",
    "\n",
    "De big Oh van dit algoritme is O = N, omdat er maar een keer over alle nodes geloopt word."
   ]
  },
  {
   "cell_type": "code",
   "execution_count": 21,
   "metadata": {},
   "outputs": [
    {
     "name": "stdout",
     "output_type": "stream",
     "text": [
      "Start with:  4\n",
      "\n",
      "Visited:  2\n",
      "Neighbours:  [0, 1, 4]\n",
      "\n",
      "Visited:  0\n",
      "Neighbours:  [1, 2, 3]\n",
      "\n",
      "Visited:  1\n",
      "Neighbours:  [0, 2]\n",
      "\n",
      "Visited:  3\n",
      "Neighbours:  [0]\n"
     ]
    }
   ],
   "source": [
    "graph = {\n",
    "    0: [1, 2, 3],\n",
    "    1: [0, 2],\n",
    "    2: [0, 1, 4],\n",
    "    3: [0],\n",
    "    4: [2],\n",
    "}\n",
    "\n",
    "def breadth_first_search(graph, root):\n",
    "    visited = []\n",
    "    queue = graph[root]\n",
    "    visited.append(root)\n",
    "\n",
    "    print('Start with: ', root)\n",
    "\n",
    "    while queue:\n",
    "        node = queue.pop(0)\n",
    "\n",
    "        if node in visited:\n",
    "            continue\n",
    "        \n",
    "        visited.append(node)\n",
    "        print(\"\")\n",
    "        print('Visited: ', node)\n",
    "        print('Neighbours: ', graph[node])\n",
    "\n",
    "        for n in graph[node]:\n",
    "            if n not in visited:\n",
    "                queue.append(n)\n",
    "\n",
    "\n",
    "\n",
    "breadth_first_search(graph, 4)"
   ]
  },
  {
   "cell_type": "code",
   "execution_count": 58,
   "metadata": {},
   "outputs": [
    {
     "name": "stdout",
     "output_type": "stream",
     "text": [
      "*\n",
      "*\n",
      "*\n",
      "*\n",
      "*\n",
      "*\n",
      "*\n",
      "*\n",
      "*\n",
      "*\n",
      "*\n",
      "*\n",
      "*\n",
      "*\n",
      "*\n"
     ]
    }
   ],
   "source": [
    "def create_pyramid(size):\n",
    "    for i in range(size):\n",
    "        for n in range(i, -1, -1):\n",
    "           \n",
    "        \n",
    "       \n",
    "        \n",
    "    \n",
    "\n",
    "create_pyramid(5)\n",
    "\n"
   ]
  }
 ],
 "metadata": {
  "kernelspec": {
   "display_name": "Python 3",
   "language": "python",
   "name": "python3"
  },
  "language_info": {
   "codemirror_mode": {
    "name": "ipython",
    "version": 3
   },
   "file_extension": ".py",
   "mimetype": "text/x-python",
   "name": "python",
   "nbconvert_exporter": "python",
   "pygments_lexer": "ipython3",
   "version": "3.10.13"
  }
 },
 "nbformat": 4,
 "nbformat_minor": 2
}
