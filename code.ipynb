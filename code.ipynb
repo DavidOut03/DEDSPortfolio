{
 "cells": [
  {
   "cell_type": "code",
   "execution_count": 52,
   "metadata": {},
   "outputs": [],
   "source": [
    "def get_dictionary(file_loc):\n",
    "    words = {}\n",
    "    with open(file_loc) as file:\n",
    "        lines = file.readlines()\n",
    "        for line in lines:\n",
    "            args = line.split()\n",
    "            code, word = args[0], args[1]\n",
    "            words[code] = word.strip()\n",
    "\n",
    "    return words\n",
    "\n"
   ]
  },
  {
   "cell_type": "code",
   "execution_count": 58,
   "metadata": {},
   "outputs": [
    {
     "data": {
      "text/plain": [
       "'design all skill '"
      ]
     },
     "execution_count": 58,
     "metadata": {},
     "output_type": "execute_result"
    }
   ],
   "source": [
    "message = \"\"\"\n",
    "  1\n",
    " 2 3\n",
    "4 5 6\n",
    "\n",
    "\"\"\"\n",
    "dictionary = get_dictionary('./data/coding_qual_input.txt')\n",
    "\n",
    "\n",
    "def decode_message(dict, message):\n",
    "    lines = message.split('\\n')\n",
    "    sentence = \"\"\n",
    "\n",
    "    for line in lines:\n",
    "        codes = line.split()\n",
    "        if len(codes) == 0:\n",
    "            continue\n",
    "        \n",
    "        code = codes[-1]\n",
    "        sentence += dict[code] + \" \"\n",
    "\n",
    "    return sentence\n",
    "\n",
    "\n",
    "decode_message(dictionary, message)"
   ]
  }
 ],
 "metadata": {
  "kernelspec": {
   "display_name": "week_2-EYbIyLJY-py3.12",
   "language": "python",
   "name": "python3"
  },
  "language_info": {
   "codemirror_mode": {
    "name": "ipython",
    "version": 3
   },
   "file_extension": ".py",
   "mimetype": "text/x-python",
   "name": "python",
   "nbconvert_exporter": "python",
   "pygments_lexer": "ipython3",
   "version": "3.12.2"
  }
 },
 "nbformat": 4,
 "nbformat_minor": 2
}
